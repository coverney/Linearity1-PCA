{
 "cells": [
  {
   "cell_type": "code",
   "execution_count": 17,
   "metadata": {},
   "outputs": [
    {
     "name": "stderr",
     "output_type": "stream",
     "text": [
      "/usr/local/lib/python3.5/dist-packages/ipykernel_launcher.py:10: UserWarning: Pandas doesn't allow columns to be created via a new attribute name - see https://pandas.pydata.org/pandas-docs/stable/indexing.html#attribute-access\n",
      "  # Remove the CWD from sys.path while we load stuff.\n"
     ]
    },
    {
     "data": {
      "text/html": [
       "<div>\n",
       "<style scoped>\n",
       "    .dataframe tbody tr th:only-of-type {\n",
       "        vertical-align: middle;\n",
       "    }\n",
       "\n",
       "    .dataframe tbody tr th {\n",
       "        vertical-align: top;\n",
       "    }\n",
       "\n",
       "    .dataframe thead th {\n",
       "        text-align: right;\n",
       "    }\n",
       "</style>\n",
       "<table border=\"1\" class=\"dataframe\">\n",
       "  <thead>\n",
       "    <tr style=\"text-align: right;\">\n",
       "      <th></th>\n",
       "      <th>0</th>\n",
       "      <th>1</th>\n",
       "      <th>2</th>\n",
       "      <th>3</th>\n",
       "      <th>4</th>\n",
       "      <th>5</th>\n",
       "      <th>6</th>\n",
       "      <th>7</th>\n",
       "    </tr>\n",
       "  </thead>\n",
       "  <tbody>\n",
       "    <tr>\n",
       "      <th>0</th>\n",
       "      <td>8.0</td>\n",
       "      <td>9.0</td>\n",
       "      <td>6.0</td>\n",
       "      <td>8.0</td>\n",
       "      <td>6.0</td>\n",
       "      <td>6.0</td>\n",
       "      <td>15.0</td>\n",
       "      <td>4.0</td>\n",
       "    </tr>\n",
       "    <tr>\n",
       "      <th>1</th>\n",
       "      <td>2.5</td>\n",
       "      <td>6.0</td>\n",
       "      <td>2.0</td>\n",
       "      <td>8.0</td>\n",
       "      <td>2.0</td>\n",
       "      <td>2.0</td>\n",
       "      <td>8.0</td>\n",
       "      <td>9.0</td>\n",
       "    </tr>\n",
       "    <tr>\n",
       "      <th>2</th>\n",
       "      <td>20.0</td>\n",
       "      <td>10.0</td>\n",
       "      <td>5.0</td>\n",
       "      <td>8.0</td>\n",
       "      <td>6.0</td>\n",
       "      <td>6.0</td>\n",
       "      <td>13.0</td>\n",
       "      <td>6.5</td>\n",
       "    </tr>\n",
       "    <tr>\n",
       "      <th>3</th>\n",
       "      <td>6.5</td>\n",
       "      <td>5.0</td>\n",
       "      <td>4.0</td>\n",
       "      <td>3.0</td>\n",
       "      <td>6.0</td>\n",
       "      <td>5.0</td>\n",
       "      <td>8.5</td>\n",
       "      <td>6.5</td>\n",
       "    </tr>\n",
       "  </tbody>\n",
       "</table>\n",
       "</div>"
      ],
      "text/plain": [
       "      0     1    2    3    4    5     6    7\n",
       "0   8.0   9.0  6.0  8.0  6.0  6.0  15.0  4.0\n",
       "1   2.5   6.0  2.0  8.0  2.0  2.0   8.0  9.0\n",
       "2  20.0  10.0  5.0  8.0  6.0  6.0  13.0  6.5\n",
       "3   6.5   5.0  4.0  3.0  6.0  5.0   8.5  6.5"
      ]
     },
     "execution_count": 17,
     "metadata": {},
     "output_type": "execute_result"
    }
   ],
   "source": [
    "import pandas as pd\n",
    "\n",
    "df = pd.read_csv(\n",
    "    filepath_or_buffer='example_data.csv', \n",
    "    header=None, \n",
    "    sep=',')\n",
    "\n",
    "df = df.transpose()\n",
    "\n",
    "df.rows=['Linearity', 'Products & Markets', 'Software Design', 'Mechanics']\n",
    "\n",
    "df"
   ]
  },
  {
   "cell_type": "code",
   "execution_count": 2,
   "metadata": {},
   "outputs": [
    {
     "name": "stderr",
     "output_type": "stream",
     "text": [
      "/usr/local/lib/python3.5/dist-packages/ipykernel_launcher.py:2: DeprecationWarning: \n",
      ".ix is deprecated. Please use\n",
      ".loc for label based indexing or\n",
      ".iloc for positional indexing\n",
      "\n",
      "See the documentation here:\n",
      "http://pandas.pydata.org/pandas-docs/stable/indexing.html#ix-indexer-is-deprecated\n",
      "  \n"
     ]
    },
    {
     "data": {
      "text/plain": [
       "matrix([[ 3.32737563],\n",
       "        [ 3.12178406],\n",
       "        [ 5.04931042],\n",
       "        [ 1.69952725]])"
      ]
     },
     "execution_count": 2,
     "metadata": {},
     "output_type": "execute_result"
    }
   ],
   "source": [
    "import numpy as np\n",
    "x = np.matrix(df.ix[:,0:8].values.reshape((4, 8)))\n",
    "x.mean(1)\n",
    "x.std(1, ddof=1)\n",
    "# x.std(1)\n",
    "# x.var(1, ddof=1)"
   ]
  },
  {
   "cell_type": "code",
   "execution_count": 3,
   "metadata": {},
   "outputs": [
    {
     "name": "stdout",
     "output_type": "stream",
     "text": [
      "[[  8.    9.    6.    8.    6.    6.   15.    4. ]\n",
      " [  2.5   6.    2.    8.    2.    2.    8.    9. ]\n",
      " [ 20.   10.    5.    8.    6.    6.   13.    6.5]\n",
      " [  6.5   5.    4.    3.    6.    5.    8.5   6.5]]\n"
     ]
    }
   ],
   "source": [
    "X = df.ix[:,0:8].values\n",
    "print(X)"
   ]
  },
  {
   "cell_type": "code",
   "execution_count": 3,
   "metadata": {},
   "outputs": [
    {
     "ename": "NameError",
     "evalue": "name 'np' is not defined",
     "output_type": "error",
     "traceback": [
      "\u001b[0;31m---------------------------------------------------------------------------\u001b[0m",
      "\u001b[0;31mNameError\u001b[0m                                 Traceback (most recent call last)",
      "\u001b[0;32m<ipython-input-3-7f16742b0b70>\u001b[0m in \u001b[0;36m<module>\u001b[0;34m()\u001b[0m\n\u001b[0;32m----> 1\u001b[0;31m \u001b[0mprint\u001b[0m\u001b[0;34m(\u001b[0m\u001b[0mnp\u001b[0m\u001b[0;34m.\u001b[0m\u001b[0mstd\u001b[0m\u001b[0;34m(\u001b[0m\u001b[0;34m[\u001b[0m  \u001b[0;36m8.\u001b[0m\u001b[0;34m,\u001b[0m  \u001b[0;36m9.\u001b[0m  \u001b[0;34m,\u001b[0m  \u001b[0;36m6.\u001b[0m \u001b[0;34m,\u001b[0m   \u001b[0;36m8.\u001b[0m  \u001b[0;34m,\u001b[0m  \u001b[0;36m6.\u001b[0m  \u001b[0;34m,\u001b[0m  \u001b[0;36m6.\u001b[0m  \u001b[0;34m,\u001b[0m \u001b[0;36m15.\u001b[0m   \u001b[0;34m,\u001b[0m \u001b[0;36m4.\u001b[0m \u001b[0;34m]\u001b[0m\u001b[0;34m)\u001b[0m\u001b[0;34m)\u001b[0m\u001b[0;34m\u001b[0m\u001b[0m\n\u001b[0m",
      "\u001b[0;31mNameError\u001b[0m: name 'np' is not defined"
     ]
    }
   ],
   "source": [
    "print(np.std([  8.,  9.  ,  6. ,   8.  ,  6.  ,  6.  , 15.   , 4. ]))"
   ]
  },
  {
   "cell_type": "code",
   "execution_count": 15,
   "metadata": {},
   "outputs": [],
   "source": [
    "from sklearn.preprocessing import StandardScaler\n",
    "X_std = StandardScaler(copy=True, with_mean=True, with_std=False).fit_transform(X.T)\n",
    "X_std = X_std.T"
   ]
  },
  {
   "cell_type": "code",
   "execution_count": 22,
   "metadata": {},
   "outputs": [
    {
     "name": "stdout",
     "output_type": "stream",
     "text": [
      "[[  0.25     1.25    -1.75     0.25    -1.75    -1.75     7.25    -3.75  ]\n",
      " [ -2.4375   1.0625  -2.9375   3.0625  -2.9375  -2.9375   3.0625   4.0625]\n",
      " [ 10.6875   0.6875  -4.3125  -1.3125  -3.3125  -3.3125   3.6875  -2.8125]\n",
      " [  0.9375  -0.5625  -1.5625  -2.5625   0.4375  -0.5625   2.9375   0.9375]]\n"
     ]
    }
   ],
   "source": [
    "print(X_std)"
   ]
  },
  {
   "cell_type": "code",
   "execution_count": 5,
   "metadata": {},
   "outputs": [
    {
     "data": {
      "text/plain": [
       "matrix([[ 0.07513429,  0.37567144, -0.52594002,  0.07513429, -0.52594002,\n",
       "         -0.52594002,  2.17889436, -1.12701433],\n",
       "        [-0.78080353,  0.34035025, -0.94096835,  0.98100956, -0.94096835,\n",
       "         -0.94096835,  0.98100956,  1.30133921],\n",
       "        [ 2.11662566,  0.13615721, -0.85407702, -0.25993648, -0.65603018,\n",
       "         -0.65603018,  0.73029774, -0.55700675],\n",
       "        [ 0.55162399, -0.33097439, -0.91937332, -1.50777224,  0.25742453,\n",
       "         -0.33097439,  1.72842184,  0.55162399]])"
      ]
     },
     "execution_count": 5,
     "metadata": {},
     "output_type": "execute_result"
    }
   ],
   "source": [
    "X_std2 = X_std/x.std(1, ddof=1)\n",
    "# X_std2 = X_std2.round(3)\n",
    "X_std2"
   ]
  },
  {
   "cell_type": "code",
   "execution_count": 19,
   "metadata": {},
   "outputs": [
    {
     "data": {
      "text/plain": [
       "array([[ 0.075, -0.781,  2.117,  0.552],\n",
       "       [ 0.376,  0.34 ,  0.136, -0.331],\n",
       "       [-0.526, -0.941, -0.854, -0.919],\n",
       "       [ 0.075,  0.981, -0.26 , -1.508],\n",
       "       [-0.526, -0.941, -0.656,  0.257],\n",
       "       [-0.526, -0.941, -0.656, -0.331],\n",
       "       [ 2.179,  0.981,  0.73 ,  1.728],\n",
       "       [-1.127,  1.301, -0.557,  0.552]])"
      ]
     },
     "execution_count": 19,
     "metadata": {},
     "output_type": "execute_result"
    }
   ],
   "source": [
    "X_std2 = X_std2.T\n",
    "X_std2"
   ]
  },
  {
   "cell_type": "code",
   "execution_count": 6,
   "metadata": {},
   "outputs": [
    {
     "name": "stdout",
     "output_type": "stream",
     "text": [
      "[[  0.00000000e+00]\n",
      " [ -1.38777878e-17]\n",
      " [  0.00000000e+00]\n",
      " [  0.00000000e+00]]\n",
      "[[[  0.00000000e+00]]\n",
      "\n",
      " [[ -1.38777878e-17]]\n",
      "\n",
      " [[  0.00000000e+00]]\n",
      "\n",
      " [[  0.00000000e+00]]]\n",
      "[[ 0.07513429  0.37567144 -0.52594002  0.07513429 -0.52594002 -0.52594002\n",
      "   2.17889436 -1.12701433]\n",
      " [-0.78080353  0.34035025 -0.94096835  0.98100956 -0.94096835 -0.94096835\n",
      "   0.98100956  1.30133921]\n",
      " [ 2.11662566  0.13615721 -0.85407702 -0.25993648 -0.65603018 -0.65603018\n",
      "   0.73029774 -0.55700675]\n",
      " [ 0.55162399 -0.33097439 -0.91937332 -1.50777224  0.25742453 -0.33097439\n",
      "   1.72842184  0.55162399]]\n",
      "7\n",
      "Covariance matrix \n",
      "[[ 1.     0.328  0.507  0.496]\n",
      " [ 0.328  1.     0.024  0.189]\n",
      " [ 0.507  0.024  1.     0.472]\n",
      " [ 0.496  0.189  0.472  1.   ]]\n"
     ]
    }
   ],
   "source": [
    "import numpy as np\n",
    "mean_vec = np.mean(X_std2, axis=1)\n",
    "print(mean_vec)\n",
    "# print(mean_vec.T.reshape(4,1))\n",
    "v = mean_vec[:, np.newaxis]\n",
    "print(v)\n",
    "print(X_std2)\n",
    "print((X_std2.shape[1]-1))\n",
    "cov_mat = (X_std2).dot((X_std2).T) / (X_std2.shape[1]-1)\n",
    "print('Covariance matrix \\n%s' %cov_mat.round(3))"
   ]
  },
  {
   "cell_type": "code",
   "execution_count": 25,
   "metadata": {},
   "outputs": [
    {
     "name": "stdout",
     "output_type": "stream",
     "text": [
      "Eigenvectors \n",
      "[[ 0.59  0.72  0.36  0.09]\n",
      " [ 0.29 -0.37  0.06  0.88]\n",
      " [ 0.52 -0.59  0.43 -0.44]\n",
      " [ 0.55 -0.02 -0.83 -0.13]]\n",
      "\n",
      "Eigenvalues \n",
      "[ 2.08  0.41  0.52  0.99]\n"
     ]
    }
   ],
   "source": [
    "# cov_mat = np.cov(X_std.T)\n",
    "\n",
    "eig_vals, eig_vecs = np.linalg.eig(cov_mat)\n",
    "\n",
    "print('Eigenvectors \\n%s' %eig_vecs.round(2))\n",
    "print('\\nEigenvalues \\n%s' %eig_vals.round(2))"
   ]
  },
  {
   "cell_type": "code",
   "execution_count": 8,
   "metadata": {},
   "outputs": [
    {
     "data": {
      "text/plain": [
       "array([[-0.59,  0.09, -0.36,  0.72],\n",
       "       [-0.29,  0.88, -0.06, -0.37],\n",
       "       [-0.52, -0.44, -0.43, -0.59],\n",
       "       [-0.55, -0.13,  0.83, -0.02]])"
      ]
     },
     "execution_count": 8,
     "metadata": {},
     "output_type": "execute_result"
    }
   ],
   "source": [
    "u,s,v = np.linalg.svd(X_std2)\n",
    "# u = u*-1\n",
    "# u[:,1] = u[:,1]*-1\n",
    "# u[:,3] = u[:,3]*-1\n",
    "u.round(2)"
   ]
  },
  {
   "cell_type": "code",
   "execution_count": 11,
   "metadata": {},
   "outputs": [
    {
     "data": {
      "text/plain": [
       "array([[-0.32, -0.05,  0.4 ,  0.17,  0.2 ,  0.29, -0.76,  0.07],\n",
       "       [-0.64,  0.12, -0.14,  0.45, -0.23, -0.21,  0.19,  0.46],\n",
       "       [-0.23, -0.25, -0.08, -0.64,  0.39,  0.13,  0.14,  0.54],\n",
       "       [-0.54,  0.04,  0.29, -0.08,  0.21,  0.21,  0.44, -0.58],\n",
       "       [ 0.15,  0.32, -0.19,  0.37,  0.83, -0.13,  0.07,  0.04],\n",
       "       [ 0.12,  0.34, -0.23,  0.11, -0.14,  0.86,  0.13,  0.16],\n",
       "       [-0.05, -0.78, -0.45,  0.33,  0.1 ,  0.2 , -0.01, -0.18],\n",
       "       [ 0.32, -0.31,  0.66,  0.33,  0.04,  0.11,  0.39,  0.32]])"
      ]
     },
     "execution_count": 11,
     "metadata": {},
     "output_type": "execute_result"
    }
   ],
   "source": []
  },
  {
   "cell_type": "code",
   "execution_count": 72,
   "metadata": {},
   "outputs": [
    {
     "name": "stdout",
     "output_type": "stream",
     "text": [
      "Everything ok!\n"
     ]
    }
   ],
   "source": [
    "for ev in eig_vecs:\n",
    "    np.testing.assert_array_almost_equal(1.0, np.linalg.norm(ev))\n",
    "print('Everything ok!')"
   ]
  },
  {
   "cell_type": "code",
   "execution_count": 26,
   "metadata": {},
   "outputs": [
    {
     "name": "stdout",
     "output_type": "stream",
     "text": [
      "Eigenvalues in descending order:\n",
      "2.08\n",
      "[[ 0.59]\n",
      " [ 0.29]\n",
      " [ 0.52]\n",
      " [ 0.55]]\n",
      "0.99\n",
      "[[ 0.09]\n",
      " [ 0.88]\n",
      " [-0.44]\n",
      " [-0.13]]\n",
      "0.52\n",
      "[[ 0.36]\n",
      " [ 0.06]\n",
      " [ 0.43]\n",
      " [-0.83]]\n",
      "0.41\n",
      "[[ 0.72]\n",
      " [-0.37]\n",
      " [-0.59]\n",
      " [-0.02]]\n"
     ]
    }
   ],
   "source": [
    "# Make a list of (eigenvalue, eigenvector) tuples\n",
    "# eig_pairs = [(np.abs(s[i]), u[:,i], v[:,i]) for i in range(len(eig_vals))]\n",
    "eig_pairs = [(np.abs(eig_vals[i]), eig_vecs[:,i]) for i in range(len(eig_vals))]\n",
    "\n",
    "# Sort the (eigenvalue, eigenvector) tuples from high to low\n",
    "eig_pairs.sort()\n",
    "eig_pairs.reverse()\n",
    "\n",
    "# Visually confirm that the list is correctly sorted by decreasing eigenvalues\n",
    "print('Eigenvalues in descending order:')\n",
    "for i in eig_pairs:\n",
    "    print(i[0].round(2))\n",
    "    print(i[1].round(2))"
   ]
  },
  {
   "cell_type": "code",
   "execution_count": 10,
   "metadata": {},
   "outputs": [
    {
     "name": "stdout",
     "output_type": "stream",
     "text": [
      "Singular values in descending order:\n",
      "3.81\n",
      "[[-0.59]\n",
      " [-0.29]\n",
      " [-0.52]\n",
      " [-0.55]]\n",
      "[[-0.32]\n",
      " [-0.64]\n",
      " [-0.23]\n",
      " [-0.54]\n",
      " [ 0.15]\n",
      " [ 0.12]\n",
      " [-0.05]\n",
      " [ 0.32]]\n",
      "2.64\n",
      "[[ 0.09]\n",
      " [ 0.88]\n",
      " [-0.44]\n",
      " [-0.13]]\n",
      "[[-0.05]\n",
      " [ 0.12]\n",
      " [-0.25]\n",
      " [ 0.04]\n",
      " [ 0.32]\n",
      " [ 0.34]\n",
      " [-0.78]\n",
      " [-0.31]]\n",
      "1.91\n",
      "[[-0.36]\n",
      " [-0.06]\n",
      " [-0.43]\n",
      " [ 0.83]]\n",
      "[[ 0.4 ]\n",
      " [-0.14]\n",
      " [-0.08]\n",
      " [ 0.29]\n",
      " [-0.19]\n",
      " [-0.23]\n",
      " [-0.45]\n",
      " [ 0.66]]\n",
      "1.69\n",
      "[[ 0.72]\n",
      " [-0.37]\n",
      " [-0.59]\n",
      " [-0.02]]\n",
      "[[ 0.17]\n",
      " [ 0.45]\n",
      " [-0.64]\n",
      " [-0.08]\n",
      " [ 0.37]\n",
      " [ 0.11]\n",
      " [ 0.33]\n",
      " [ 0.33]]\n"
     ]
    }
   ],
   "source": [
    "# Make a list of (eigenvalue, eigenvector) tuples\n",
    "eig_pairs2 = [(np.abs(s[i]), u[:,i], v[:,i]) for i in range(len(s))]\n",
    "\n",
    "# Sort the (eigenvalue, eigenvector) tuples from high to low\n",
    "eig_pairs2.sort()\n",
    "eig_pairs2.reverse()\n",
    "\n",
    "# Visually confirm that the list is correctly sorted by decreasing eigenvalues\n",
    "print('Singular values in descending order:')\n",
    "for i in eig_pairs2:\n",
    "    print(i[0].round(2))\n",
    "    print(i[1].round(2))\n",
    "    print(i[2].round(2))"
   ]
  },
  {
   "cell_type": "code",
   "execution_count": 13,
   "metadata": {},
   "outputs": [
    {
     "data": {
      "text/plain": [
       "array([[-0.32, -0.64, -0.23, -0.54,  0.15,  0.12, -0.05,  0.32],\n",
       "       [-0.05,  0.12, -0.25,  0.04,  0.32,  0.34, -0.78, -0.31],\n",
       "       [ 0.4 , -0.14, -0.08,  0.29, -0.19, -0.23, -0.45,  0.66],\n",
       "       [ 0.17,  0.45, -0.64, -0.08,  0.37,  0.11,  0.33,  0.33],\n",
       "       [ 0.2 , -0.23,  0.39,  0.21,  0.83, -0.14,  0.1 ,  0.04],\n",
       "       [ 0.29, -0.21,  0.13,  0.21, -0.13,  0.86,  0.2 ,  0.11],\n",
       "       [-0.76,  0.19,  0.14,  0.44,  0.07,  0.13, -0.01,  0.39],\n",
       "       [ 0.07,  0.46,  0.54, -0.58,  0.04,  0.16, -0.18,  0.32]])"
      ]
     },
     "execution_count": 13,
     "metadata": {},
     "output_type": "execute_result"
    }
   ],
   "source": [
    "v.T.round(2)"
   ]
  },
  {
   "cell_type": "code",
   "execution_count": 74,
   "metadata": {},
   "outputs": [],
   "source": [
    "import plotly.plotly as py\n",
    "from plotly.graph_objs import *\n",
    "import plotly.tools as tls"
   ]
  },
  {
   "cell_type": "code",
   "execution_count": 16,
   "metadata": {},
   "outputs": [
    {
     "ename": "NameError",
     "evalue": "name 'eig_vals' is not defined",
     "output_type": "error",
     "traceback": [
      "\u001b[0;31m---------------------------------------------------------------------------\u001b[0m",
      "\u001b[0;31mNameError\u001b[0m                                 Traceback (most recent call last)",
      "\u001b[0;32m<ipython-input-16-4e388de498f7>\u001b[0m in \u001b[0;36m<module>\u001b[0;34m()\u001b[0m\n\u001b[0;32m----> 1\u001b[0;31m \u001b[0mtot\u001b[0m \u001b[0;34m=\u001b[0m \u001b[0msum\u001b[0m\u001b[0;34m(\u001b[0m\u001b[0meig_vals\u001b[0m\u001b[0;34m)\u001b[0m\u001b[0;34m\u001b[0m\u001b[0m\n\u001b[0m\u001b[1;32m      2\u001b[0m \u001b[0mvar_exp\u001b[0m \u001b[0;34m=\u001b[0m \u001b[0;34m[\u001b[0m\u001b[0;34m(\u001b[0m\u001b[0mi\u001b[0m \u001b[0;34m/\u001b[0m \u001b[0mtot\u001b[0m\u001b[0;34m)\u001b[0m\u001b[0;34m*\u001b[0m\u001b[0;36m100\u001b[0m \u001b[0;32mfor\u001b[0m \u001b[0mi\u001b[0m \u001b[0;32min\u001b[0m \u001b[0msorted\u001b[0m\u001b[0;34m(\u001b[0m\u001b[0meig_vals\u001b[0m\u001b[0;34m,\u001b[0m \u001b[0mreverse\u001b[0m\u001b[0;34m=\u001b[0m\u001b[0;32mTrue\u001b[0m\u001b[0;34m)\u001b[0m\u001b[0;34m]\u001b[0m\u001b[0;34m\u001b[0m\u001b[0m\n\u001b[1;32m      3\u001b[0m \u001b[0mcum_var_exp\u001b[0m \u001b[0;34m=\u001b[0m \u001b[0mnp\u001b[0m\u001b[0;34m.\u001b[0m\u001b[0mcumsum\u001b[0m\u001b[0;34m(\u001b[0m\u001b[0mvar_exp\u001b[0m\u001b[0;34m)\u001b[0m\u001b[0;34m\u001b[0m\u001b[0m\n\u001b[1;32m      4\u001b[0m \u001b[0;34m\u001b[0m\u001b[0m\n\u001b[1;32m      5\u001b[0m trace1 = Bar(\n",
      "\u001b[0;31mNameError\u001b[0m: name 'eig_vals' is not defined"
     ]
    }
   ],
   "source": [
    "tot = sum(eig_vals)\n",
    "var_exp = [(i / tot)*100 for i in sorted(eig_vals, reverse=True)]\n",
    "cum_var_exp = np.cumsum(var_exp)\n",
    "\n",
    "trace1 = Bar(\n",
    "        x=['PC %s' %i for i in range(1,18)],\n",
    "        y=var_exp,\n",
    "        showlegend=False)\n",
    "\n",
    "trace2 = Scatter(\n",
    "        x=['PC %s' %i for i in range(1,18)], \n",
    "        y=cum_var_exp,\n",
    "        showlegend=False)\n",
    "\n",
    "data = Data([trace1, trace2])\n",
    "\n",
    "layout=Layout(\n",
    "        yaxis=YAxis(title='Explained Variance(%)'),\n",
    "        title='Explained Variance by Principal Components',\n",
    "        margin=dict(t=50, b=20, r=0, l=60, autoexpand=False),\n",
    "        font=dict(size=16)\n",
    "        )\n",
    "\n",
    "fig = Figure(data=data, layout=layout)\n",
    "# py.iplot(fig)\n",
    "\n",
    "py.image.save_as(fig, filename='Ex_var.png')\n",
    "\n",
    "from IPython.display import Image\n",
    "Image('Ex_var.png')"
   ]
  },
  {
   "cell_type": "code",
   "execution_count": 27,
   "metadata": {},
   "outputs": [
    {
     "name": "stdout",
     "output_type": "stream",
     "text": [
      "Matrix W:\n",
      " [[ 0.59  0.09]\n",
      " [ 0.29  0.88]\n",
      " [ 0.52 -0.44]\n",
      " [ 0.55 -0.13]]\n"
     ]
    }
   ],
   "source": [
    "matrix_w = np.hstack((eig_pairs[0][1].reshape(4,1), \n",
    "                      eig_pairs[1][1].reshape(4,1)))\n",
    "\n",
    "# matrix_w = np.hstack((eig_pairs[0][2].reshape(4,1), \n",
    "#                       eig_pairs[1][2].reshape(4,1)))\n",
    "\n",
    "print('Matrix W:\\n', matrix_w.round(2))\n",
    "# print('Matrix T:\\n', matrix_t)"
   ]
  },
  {
   "cell_type": "code",
   "execution_count": 28,
   "metadata": {},
   "outputs": [
    {
     "name": "stdout",
     "output_type": "stream",
     "text": [
      "Matrix W:\n",
      " [[-0.58595496  0.0875778 ]\n",
      " [-0.28674255  0.88206604]\n",
      " [-0.52259242 -0.44376272]\n",
      " [-0.54893776 -0.13177356]]\n"
     ]
    }
   ],
   "source": [
    "matrix_w2 = np.hstack((eig_pairs2[0][1].reshape(4,1), \n",
    "                      eig_pairs2[1][1].reshape(4,1)))\n",
    "\n",
    "# matrix_w = np.hstack((eig_pairs[0][2].reshape(4,1), \n",
    "#                       eig_pairs[1][2].reshape(4,1)))\n",
    "\n",
    "print('Matrix W:\\n', matrix_w2)\n",
    "# print('Matrix T:\\n', matrix_t)"
   ]
  },
  {
   "cell_type": "code",
   "execution_count": 29,
   "metadata": {},
   "outputs": [
    {
     "name": "stdout",
     "output_type": "stream",
     "text": [
      "[[ 1.22907548 -1.69410919]\n",
      " [ 0.20718982  0.31630406]\n",
      " [-1.52900573 -0.37590027]\n",
      " [-0.63819146  1.18592995]\n",
      " [-0.77951918 -0.61885692]\n",
      " [-1.10251356 -0.5413215 ]\n",
      " [ 2.88847521  0.5042988 ]\n",
      " [-0.27551058  1.22365507]]\n"
     ]
    },
    {
     "data": {
      "text/plain": [
       "array([[ 1.23, -1.69],\n",
       "       [ 0.21,  0.32],\n",
       "       [-1.53, -0.38],\n",
       "       [-0.64,  1.19],\n",
       "       [-0.78, -0.62],\n",
       "       [-1.1 , -0.54],\n",
       "       [ 2.89,  0.5 ],\n",
       "       [-0.28,  1.22]])"
      ]
     },
     "execution_count": 29,
     "metadata": {},
     "output_type": "execute_result"
    }
   ],
   "source": [
    "Y = X_std2.T.dot(matrix_w)\n",
    "print(Y)\n",
    "Y.round(2)"
   ]
  },
  {
   "cell_type": "code",
   "execution_count": 29,
   "metadata": {},
   "outputs": [
    {
     "data": {
      "text/plain": [
       "array([[-1.31393695, -1.81107891],\n",
       "       [-0.22149524,  0.33814327],\n",
       "       [ 1.63457588, -0.40185429],\n",
       "       [ 0.68225537,  1.26781244],\n",
       "       [ 0.83334105, -0.66158587],\n",
       "       [ 1.17863658, -0.57869702],\n",
       "       [-3.08790988,  0.53911809],\n",
       "       [ 0.29453319,  1.30814229]])"
      ]
     },
     "execution_count": 29,
     "metadata": {},
     "output_type": "execute_result"
    }
   ],
   "source": [
    "Y2 = X_std.T.dot(matrix_w2)\n",
    "Y2"
   ]
  },
  {
   "cell_type": "code",
   "execution_count": 79,
   "metadata": {},
   "outputs": [
    {
     "name": "stdout",
     "output_type": "stream",
     "text": [
      "2.5.1\n"
     ]
    }
   ],
   "source": [
    "from plotly import __version__\n",
    "from plotly.offline import download_plotlyjs, init_notebook_mode, plot, iplot\n",
    "\n",
    "print(__version__) # requires version >= 1.9.0"
   ]
  },
  {
   "cell_type": "code",
   "execution_count": 80,
   "metadata": {},
   "outputs": [
    {
     "data": {
      "text/html": [
       "<script>requirejs.config({paths: { 'plotly': ['https://cdn.plot.ly/plotly-latest.min']},});if(!window.Plotly) {{require(['plotly'],function(plotly) {window.Plotly=plotly;});}}</script>"
      ],
      "text/vnd.plotly.v1+html": [
       "<script>requirejs.config({paths: { 'plotly': ['https://cdn.plot.ly/plotly-latest.min']},});if(!window.Plotly) {{require(['plotly'],function(plotly) {window.Plotly=plotly;});}}</script>"
      ]
     },
     "metadata": {},
     "output_type": "display_data"
    }
   ],
   "source": [
    "init_notebook_mode(connected=True)"
   ]
  },
  {
   "cell_type": "code",
   "execution_count": 82,
   "metadata": {},
   "outputs": [
    {
     "data": {
      "text/html": [
       "<iframe id=\"igraph\" scrolling=\"no\" style=\"border:none;\" seamless=\"seamless\" src=\"https://plot.ly/~softdesinfinity2/16.embed\" height=\"525px\" width=\"100%\"></iframe>"
      ],
      "text/plain": [
       "<plotly.tools.PlotlyDisplay object>"
      ]
     },
     "execution_count": 82,
     "metadata": {},
     "output_type": "execute_result"
    }
   ],
   "source": [
    "import plotly.graph_objs as go\n",
    "\n",
    "traces = []\n",
    "\n",
    "trace1 = go.Scatter(\n",
    "    x=Y[:,0],\n",
    "    y=Y[:,1],\n",
    "    mode='markers+text',\n",
    "    text=['Dan', 'Cassandra', 'Will', 'Josh', 'Junwon', 'Anna', 'Jessie', 'Ashley'],\n",
    "    textposition='bottom',\n",
    "    marker=Marker(\n",
    "            size=12,\n",
    "            line=Line(\n",
    "                color='rgba(217, 217, 217, 0.14)',\n",
    "                width=0.5),\n",
    "            opacity=0.8))\n",
    "\n",
    "traces.append(trace1)\n",
    "\n",
    "\n",
    "data = Data(traces)\n",
    "\n",
    "# layout = go.Layout(\n",
    "#     margin=dict(\n",
    "#         l=0,\n",
    "#         r=0,\n",
    "#         b=0,\n",
    "#         t=0\n",
    "#     )\n",
    "# )\n",
    "layout = Layout(showlegend=False,\n",
    "                xaxis=dict(title='PC1 of C',),\n",
    "                yaxis=dict(title='PC2 of C',),\n",
    "                title='2D PCA of Class Time Data',\n",
    "                margin=dict(t=50, b=50, r=0, l=60, autoexpand=False),\n",
    "                font=dict(size=16)\n",
    "                )\n",
    "\n",
    "fig = go.Figure(data=data, layout=layout)\n",
    "py.iplot(fig, filename='2d-PCA')\n",
    "# py.image.save_as(fig, filename='PCA_class.png')\n",
    "\n",
    "# from IPython.display import Image\n",
    "# Image('PCA_class.png')"
   ]
  },
  {
   "cell_type": "code",
   "execution_count": 61,
   "metadata": {},
   "outputs": [
    {
     "data": {
      "image/png": "[encoded data removed]",
      "text/plain": [
       "<IPython.core.display.Image object>"
      ]
     },
     "execution_count": 61,
     "metadata": {},
     "output_type": "execute_result"
    }
   ],
   "source": [
    "import plotly.graph_objs as go\n",
    "\n",
    "traces = []\n",
    "\n",
    "trace1 = go.Scatter(\n",
    "    x=Y2[:,0],\n",
    "    y=Y2[:,1],\n",
    "    mode='markers+text',\n",
    "    text=['Dan', 'Cassandra', 'Will', 'Josh', 'Junwon', 'Anna', 'Jessie', 'Ashley'],\n",
    "    textposition='bottom',\n",
    "    marker=Marker(\n",
    "            size=12,\n",
    "            line=Line(\n",
    "                color='rgba(217, 217, 217, 0.14)',\n",
    "                width=0.5),\n",
    "            opacity=0.8))\n",
    "\n",
    "traces.append(trace1)\n",
    "\n",
    "\n",
    "data = Data(traces)\n",
    "\n",
    "# layout = go.Layout(\n",
    "#     margin=dict(\n",
    "#         l=0,\n",
    "#         r=0,\n",
    "#         b=0,\n",
    "#         t=0\n",
    "#     )\n",
    "# )\n",
    "layout = Layout(showlegend=False,\n",
    "                xaxis=dict(title='PC1 of U',),\n",
    "                yaxis=dict(title='PC2 of U',),\n",
    "                title='2D SVD of Class Time Data',\n",
    "                margin=dict(t=50, b=50, r=0, l=60, autoexpand=False),\n",
    "                font=dict(size=16)\n",
    "                )\n",
    "\n",
    "fig = go.Figure(data=data, layout=layout)\n",
    "# py.iplot(fig, filename='2d-PCA')\n",
    "# py.image.save_as(fig, filename='SVD_class.png')\n",
    "\n",
    "# from IPython.display import Image\n",
    "# Image('SVD_class.png')"
   ]
  },
  {
   "cell_type": "code",
   "execution_count": 98,
   "metadata": {},
   "outputs": [
    {
     "data": {
      "image/png": "[encoded data removed]",
      "text/plain": [
       "<matplotlib.figure.Figure at 0x7fb8f359b160>"
      ]
     },
     "metadata": {},
     "output_type": "display_data"
    }
   ],
   "source": [
    "import matplotlib.pyplot as plt\n",
    "import numpy as np\n",
    "import mpld3\n",
    "\n",
    "%matplotlib inline\n",
    "\n",
    "fig = plt.figure()\n",
    "ax = fig.add_subplot(111)\n",
    "\n",
    "names = ['Dan', 'Cassandra', 'Will', 'Josh', 'Junwon', 'Anna', 'Jessie', 'Ashley']\n",
    "\n",
    "ax.scatter(Y[:,0].tolist(), Y[:,1].tolist(), c='r', marker='o')\n",
    "\n",
    "for label, x, y in zip(names, Y[:,0].tolist(), Y[:,1].tolist()):\n",
    "    plt.annotate(\n",
    "        label,\n",
    "        xy=(x, y))\n",
    "\n",
    "\n",
    "ax.set_xlabel('PC1')\n",
    "ax.set_ylabel('PC2')\n",
    "\n",
    "plt.show()\n",
    "fig.savefig('2d_pca.png', bbox_inches='tight')"
   ]
  },
  {
   "cell_type": "code",
   "execution_count": null,
   "metadata": {},
   "outputs": [],
   "source": []
  }
 ],
 "metadata": {
  "kernelspec": {
   "display_name": "Python 3",
   "language": "python",
   "name": "python3"
  },
  "language_info": {
   "codemirror_mode": {
    "name": "ipython",
    "version": 3
   },
   "file_extension": ".py",
   "mimetype": "text/x-python",
   "name": "python",
   "nbconvert_exporter": "python",
   "pygments_lexer": "ipython3",
   "version": "3.5.2"
  }
 },
 "nbformat": 4,
 "nbformat_minor": 2
}
