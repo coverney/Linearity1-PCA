{
 "cells": [
  {
   "cell_type": "code",
   "execution_count": 27,
   "metadata": {},
   "outputs": [
    {
     "data": {
      "text/html": [
       "<div>\n",
       "<style>\n",
       "    .dataframe thead tr:only-child th {\n",
       "        text-align: right;\n",
       "    }\n",
       "\n",
       "    .dataframe thead th {\n",
       "        text-align: left;\n",
       "    }\n",
       "\n",
       "    .dataframe tbody tr th {\n",
       "        vertical-align: top;\n",
       "    }\n",
       "</style>\n",
       "<table border=\"1\" class=\"dataframe\">\n",
       "  <thead>\n",
       "    <tr style=\"text-align: right;\">\n",
       "      <th></th>\n",
       "      <th>0</th>\n",
       "      <th>1</th>\n",
       "      <th>2</th>\n",
       "      <th>3</th>\n",
       "      <th>4</th>\n",
       "      <th>5</th>\n",
       "      <th>6</th>\n",
       "      <th>7</th>\n",
       "    </tr>\n",
       "  </thead>\n",
       "  <tbody>\n",
       "    <tr>\n",
       "      <th>0</th>\n",
       "      <td>8.0</td>\n",
       "      <td>9.0</td>\n",
       "      <td>6.0</td>\n",
       "      <td>8.0</td>\n",
       "      <td>6.0</td>\n",
       "      <td>6.0</td>\n",
       "      <td>15.0</td>\n",
       "      <td>4.0</td>\n",
       "    </tr>\n",
       "    <tr>\n",
       "      <th>1</th>\n",
       "      <td>2.5</td>\n",
       "      <td>6.0</td>\n",
       "      <td>2.0</td>\n",
       "      <td>8.0</td>\n",
       "      <td>2.0</td>\n",
       "      <td>2.0</td>\n",
       "      <td>8.0</td>\n",
       "      <td>9.0</td>\n",
       "    </tr>\n",
       "    <tr>\n",
       "      <th>2</th>\n",
       "      <td>20.0</td>\n",
       "      <td>10.0</td>\n",
       "      <td>5.0</td>\n",
       "      <td>8.0</td>\n",
       "      <td>6.0</td>\n",
       "      <td>6.0</td>\n",
       "      <td>13.0</td>\n",
       "      <td>6.5</td>\n",
       "    </tr>\n",
       "    <tr>\n",
       "      <th>3</th>\n",
       "      <td>6.5</td>\n",
       "      <td>5.0</td>\n",
       "      <td>4.0</td>\n",
       "      <td>3.0</td>\n",
       "      <td>6.0</td>\n",
       "      <td>5.0</td>\n",
       "      <td>8.5</td>\n",
       "      <td>6.5</td>\n",
       "    </tr>\n",
       "  </tbody>\n",
       "</table>\n",
       "</div>"
      ],
      "text/plain": [
       "      0     1    2    3    4    5     6    7\n",
       "0   8.0   9.0  6.0  8.0  6.0  6.0  15.0  4.0\n",
       "1   2.5   6.0  2.0  8.0  2.0  2.0   8.0  9.0\n",
       "2  20.0  10.0  5.0  8.0  6.0  6.0  13.0  6.5\n",
       "3   6.5   5.0  4.0  3.0  6.0  5.0   8.5  6.5"
      ]
     },
     "execution_count": 27,
     "metadata": {},
     "output_type": "execute_result"
    }
   ],
   "source": [
    "import pandas as pd\n",
    "\n",
    "#Create a DataFrame containing the data you wish to analyze.\n",
    "df = pd.read_csv(\n",
    "    filepath_or_buffer='example_data.csv', \n",
    "    header=None, \n",
    "    sep=',')\n",
    "\n",
    "df = df.transpose()\n",
    "\n",
    "df.rows=['Linearity', 'Products & Markets', 'Software Design', 'Mechanics']\n",
    "\n",
    "df"
   ]
  },
  {
   "cell_type": "code",
   "execution_count": 29,
   "metadata": {},
   "outputs": [
    {
     "data": {
      "text/plain": [
       "matrix([[3.32737563],\n",
       "        [3.12178406],\n",
       "        [5.04931042],\n",
       "        [1.69952725]])"
      ]
     },
     "execution_count": 29,
     "metadata": {},
     "output_type": "execute_result"
    }
   ],
   "source": [
    "import numpy as np\n",
    "\n",
    "#Turn the data into a numpy matrix.\n",
    "x = np.matrix(df.iloc[:,0:8].values.reshape((4, 8)))\n",
    "\n",
    "#Find the average amount of time spent on each class\n",
    "x.mean(1)\n",
    "\n",
    "#Find the standard deviation by class in this example.\n",
    "x.std(1, ddof=1)\n",
    "#ddof means Delta Degrees of Freedom"
   ]
  },
  {
   "cell_type": "code",
   "execution_count": 32,
   "metadata": {},
   "outputs": [
    {
     "name": "stdout",
     "output_type": "stream",
     "text": [
      "[[ 8.   9.   6.   8.   6.   6.  15.   4. ]\n",
      " [ 2.5  6.   2.   8.   2.   2.   8.   9. ]\n",
      " [20.  10.   5.   8.   6.   6.  13.   6.5]\n",
      " [ 6.5  5.   4.   3.   6.   5.   8.5  6.5]]\n"
     ]
    }
   ],
   "source": [
    "#Show another way to get a Numpy representation of a Dataframe\n",
    "X = df.iloc[:,0:8].values\n",
    "print(X)"
   ]
  },
  {
   "cell_type": "code",
   "execution_count": 13,
   "metadata": {},
   "outputs": [
    {
     "name": "stdout",
     "output_type": "stream",
     "text": [
      "3.112474899497183\n"
     ]
    }
   ],
   "source": [
    "print(np.std([  8.,  9.  ,  6. ,   8.  ,  6.  ,  6.  , 15.   , 4. ]))"
   ]
  },
  {
   "cell_type": "code",
   "execution_count": 44,
   "metadata": {
    "collapsed": true
   },
   "outputs": [],
   "source": [
    "from sklearn.preprocessing import StandardScaler\n",
    "#Center the transpose of the data matrix.\n",
    "#In other words, center the rows of the data matrix\n",
    "X_std = StandardScaler(copy=True, with_mean=True, with_std=False).fit_transform(X.T)\n",
    "#Get the centered data matrix\n",
    "X_std = X_std.T"
   ]
  },
  {
   "cell_type": "code",
   "execution_count": 45,
   "metadata": {},
   "outputs": [
    {
     "name": "stdout",
     "output_type": "stream",
     "text": [
      "[[ 0.25    1.25   -1.75    0.25   -1.75   -1.75    7.25   -3.75  ]\n",
      " [-2.4375  1.0625 -2.9375  3.0625 -2.9375 -2.9375  3.0625  4.0625]\n",
      " [10.6875  0.6875 -4.3125 -1.3125 -3.3125 -3.3125  3.6875 -2.8125]\n",
      " [ 0.9375 -0.5625 -1.5625 -2.5625  0.4375 -0.5625  2.9375  0.9375]]\n"
     ]
    }
   ],
   "source": [
    "print(X_std)"
   ]
  },
  {
   "cell_type": "code",
   "execution_count": 46,
   "metadata": {},
   "outputs": [
    {
     "name": "stdout",
     "output_type": "stream",
     "text": [
      "[[3.32737563]\n",
      " [3.12178406]\n",
      " [5.04931042]\n",
      " [1.69952725]]\n"
     ]
    }
   ],
   "source": [
    "print(x.std(1, ddof=1))"
   ]
  },
  {
   "cell_type": "code",
   "execution_count": 66,
   "metadata": {},
   "outputs": [
    {
     "data": {
      "text/plain": [
       "matrix([[ 0.07513429,  0.37567144, -0.52594002,  0.07513429, -0.52594002,\n",
       "         -0.52594002,  2.17889436, -1.12701433],\n",
       "        [-0.78080353,  0.34035025, -0.94096835,  0.98100956, -0.94096835,\n",
       "         -0.94096835,  0.98100956,  1.30133921],\n",
       "        [ 2.11662566,  0.13615721, -0.85407702, -0.25993648, -0.65603018,\n",
       "         -0.65603018,  0.73029774, -0.55700675],\n",
       "        [ 0.55162399, -0.33097439, -0.91937332, -1.50777224,  0.25742453,\n",
       "         -0.33097439,  1.72842184,  0.55162399]])"
      ]
     },
     "execution_count": 66,
     "metadata": {},
     "output_type": "execute_result"
    }
   ],
   "source": [
    "#Divide each entry in the data matrix by the standard deviation of the samples in that row.\n",
    "X_std2 = X_std/x.std(1, ddof=1)\n",
    "X_std2"
   ]
  },
  {
   "cell_type": "code",
   "execution_count": 51,
   "metadata": {},
   "outputs": [
    {
     "data": {
      "text/plain": [
       "matrix([[ 0.07513429, -0.78080353,  2.11662566,  0.55162399],\n",
       "        [ 0.37567144,  0.34035025,  0.13615721, -0.33097439],\n",
       "        [-0.52594002, -0.94096835, -0.85407702, -0.91937332],\n",
       "        [ 0.07513429,  0.98100956, -0.25993648, -1.50777224],\n",
       "        [-0.52594002, -0.94096835, -0.65603018,  0.25742453],\n",
       "        [-0.52594002, -0.94096835, -0.65603018, -0.33097439],\n",
       "        [ 2.17889436,  0.98100956,  0.73029774,  1.72842184],\n",
       "        [-1.12701433,  1.30133921, -0.55700675,  0.55162399]])"
      ]
     },
     "execution_count": 51,
     "metadata": {},
     "output_type": "execute_result"
    }
   ],
   "source": [
    "# #Transpose the matrix so each variable is a column vector.\n",
    "# X_std2 = X_std2.T\n",
    "# X_std2"
   ]
  },
  {
   "cell_type": "code",
   "execution_count": 67,
   "metadata": {},
   "outputs": [
    {
     "name": "stdout",
     "output_type": "stream",
     "text": [
      "The centered, standardized mean time each person works outside of classes:\n",
      "[[ 0.00000000e+00]\n",
      " [-1.38777878e-17]\n",
      " [ 0.00000000e+00]\n",
      " [ 0.00000000e+00]]\n",
      "\n",
      "The centered matrix:\n",
      "[[ 0.07513429  0.37567144 -0.52594002  0.07513429 -0.52594002 -0.52594002\n",
      "   2.17889436 -1.12701433]\n",
      " [-0.78080353  0.34035025 -0.94096835  0.98100956 -0.94096835 -0.94096835\n",
      "   0.98100956  1.30133921]\n",
      " [ 2.11662566  0.13615721 -0.85407702 -0.25993648 -0.65603018 -0.65603018\n",
      "   0.73029774 -0.55700675]\n",
      " [ 0.55162399 -0.33097439 -0.91937332 -1.50777224  0.25742453 -0.33097439\n",
      "   1.72842184  0.55162399]]\n",
      "\n",
      "The number of dimensions of the centered matrix:\n",
      "8\n"
     ]
    }
   ],
   "source": [
    "mean_vec = np.mean(X_std2, axis=1)\n",
    "print('The centered, standardized mean time each person works outside of classes:')\n",
    "print(mean_vec)\n",
    "print()\n",
    "print('The centered matrix:')\n",
    "print(X_std2)\n",
    "print()\n",
    "print('The number of dimensions of the centered matrix:')\n",
    "print((X_std2.shape[1]))"
   ]
  },
  {
   "cell_type": "code",
   "execution_count": 68,
   "metadata": {},
   "outputs": [
    {
     "name": "stdout",
     "output_type": "stream",
     "text": [
      "Covariance matrix: \n",
      "[[1.    0.328 0.507 0.496]\n",
      " [0.328 1.    0.024 0.189]\n",
      " [0.507 0.024 1.    0.472]\n",
      " [0.496 0.189 0.472 1.   ]]\n"
     ]
    }
   ],
   "source": [
    "#Next, we must create the covariance matrix.\n",
    "cov_mat = (X_std2).dot((X_std2).T) / (X_std2.shape[1]-1)\n",
    "print('Covariance matrix: \\n%s' %cov_mat.round(3))"
   ]
  },
  {
   "cell_type": "code",
   "execution_count": 69,
   "metadata": {},
   "outputs": [
    {
     "name": "stdout",
     "output_type": "stream",
     "text": [
      "Eigenvectors \n",
      "[[ 0.59  0.72  0.36  0.09]\n",
      " [ 0.29 -0.37  0.06  0.88]\n",
      " [ 0.52 -0.59  0.43 -0.44]\n",
      " [ 0.55 -0.02 -0.83 -0.13]]\n",
      "\n",
      "Eigenvalues \n",
      "[2.08 0.41 0.52 0.99]\n"
     ]
    }
   ],
   "source": [
    "#Find the eigenvectors and eigenvalues of the covariance matrix.\n",
    "eig_vals, eig_vecs = np.linalg.eig(cov_mat)\n",
    "\n",
    "print('Eigenvectors \\n%s' %eig_vecs.round(2))\n",
    "print('\\nEigenvalues \\n%s' %eig_vals.round(2))"
   ]
  },
  {
   "cell_type": "code",
   "execution_count": 75,
   "metadata": {},
   "outputs": [
    {
     "data": {
      "text/plain": [
       "array([[-0.59,  0.09, -0.36,  0.72],\n",
       "       [-0.29,  0.88, -0.06, -0.37],\n",
       "       [-0.52, -0.44, -0.43, -0.59],\n",
       "       [-0.55, -0.13,  0.83, -0.02]])"
      ]
     },
     "execution_count": 75,
     "metadata": {},
     "output_type": "execute_result"
    }
   ],
   "source": [
    "#Perform singular value decomposition on the centered matrix\n",
    "u,s,v = np.linalg.svd(X_std2)\n",
    "u.round(2)"
   ]
  },
  {
   "cell_type": "code",
   "execution_count": 76,
   "metadata": {},
   "outputs": [
    {
     "name": "stdout",
     "output_type": "stream",
     "text": [
      "Everything ok!\n"
     ]
    }
   ],
   "source": [
    "for ev in eig_vecs:\n",
    "    np.testing.assert_array_almost_equal(1.0, np.linalg.norm(ev))\n",
    "print('Everything ok!')"
   ]
  },
  {
   "cell_type": "code",
   "execution_count": 79,
   "metadata": {},
   "outputs": [
    {
     "name": "stdout",
     "output_type": "stream",
     "text": [
      "Eigenvalues in descending order:\n",
      "2.08\n",
      "[[0.59]\n",
      " [0.29]\n",
      " [0.52]\n",
      " [0.55]]\n",
      "0.99\n",
      "[[ 0.09]\n",
      " [ 0.88]\n",
      " [-0.44]\n",
      " [-0.13]]\n",
      "0.52\n",
      "[[ 0.36]\n",
      " [ 0.06]\n",
      " [ 0.43]\n",
      " [-0.83]]\n",
      "0.41\n",
      "[[ 0.72]\n",
      " [-0.37]\n",
      " [-0.59]\n",
      " [-0.02]]\n"
     ]
    }
   ],
   "source": [
    "#Principal Component Analysis\n",
    "# Make a list of (eigenvalue, eigenvector) tuples\n",
    "eig_pairs = [(np.abs(eig_vals[i]), eig_vecs[:,i]) for i in range(len(eig_vals))]\n",
    "\n",
    "# Sort the (eigenvalue, eigenvector) tuples from high to low\n",
    "eig_pairs.sort()\n",
    "eig_pairs.reverse()\n",
    "\n",
    "# Visually confirm that the list is correctly sorted by decreasing eigenvalues\n",
    "print('Eigenvalues in descending order:')\n",
    "for i in eig_pairs:\n",
    "    print(i[0].round(2))\n",
    "    print(i[1].round(2))"
   ]
  },
  {
   "cell_type": "code",
   "execution_count": 92,
   "metadata": {},
   "outputs": [
    {
     "name": "stdout",
     "output_type": "stream",
     "text": [
      "Singular values in descending order:\n",
      "3.81\n",
      "[[-0.59]\n",
      " [-0.29]\n",
      " [-0.52]\n",
      " [-0.55]]\n",
      "2.64\n",
      "[[ 0.09]\n",
      " [ 0.88]\n",
      " [-0.44]\n",
      " [-0.13]]\n",
      "1.91\n",
      "[[-0.36]\n",
      " [-0.06]\n",
      " [-0.43]\n",
      " [ 0.83]]\n",
      "1.69\n",
      "[[ 0.72]\n",
      " [-0.37]\n",
      " [-0.59]\n",
      " [-0.02]]\n"
     ]
    }
   ],
   "source": [
    "#Singular Value Decomposition\n",
    "# Make a list of (singular value, eigenvector) tuples\n",
    "eig_pairs2 = [(np.abs(s[i]), u[:,i]) for i in range(len(s))]\n",
    "\n",
    "# Sort the (eigenvalue, eigenvector) tuples from high to low\n",
    "eig_pairs2.sort()\n",
    "eig_pairs2.reverse()\n",
    "\n",
    "# Visually confirm that the list is correctly sorted by decreasing eigenvalues\n",
    "print('Singular values in descending order:')\n",
    "for i in eig_pairs2:\n",
    "    print(i[0].round(2))\n",
    "    print(i[1].round(2))"
   ]
  },
  {
   "cell_type": "code",
   "execution_count": 93,
   "metadata": {},
   "outputs": [
    {
     "data": {
      "text/plain": [
       "array([[-0.32, -0.05,  0.4 ,  0.17,  0.2 ,  0.29, -0.76,  0.07],\n",
       "       [-0.64,  0.12, -0.14,  0.45, -0.23, -0.21,  0.19,  0.46],\n",
       "       [-0.23, -0.25, -0.08, -0.64,  0.39,  0.13,  0.14,  0.54],\n",
       "       [-0.54,  0.04,  0.29, -0.08,  0.21,  0.21,  0.44, -0.58],\n",
       "       [ 0.15,  0.32, -0.19,  0.37,  0.83, -0.13,  0.07,  0.04],\n",
       "       [ 0.12,  0.34, -0.23,  0.11, -0.14,  0.86,  0.13,  0.16],\n",
       "       [-0.05, -0.78, -0.45,  0.33,  0.1 ,  0.2 , -0.01, -0.18],\n",
       "       [ 0.32, -0.31,  0.66,  0.33,  0.04,  0.11,  0.39,  0.32]])"
      ]
     },
     "execution_count": 93,
     "metadata": {},
     "output_type": "execute_result"
    }
   ],
   "source": [
    "v.T.round(2)"
   ]
  },
  {
   "cell_type": "code",
   "execution_count": 96,
   "metadata": {
    "collapsed": true
   },
   "outputs": [],
   "source": [
    "import plotly.plotly as py\n",
    "from plotly.graph_objs import *\n",
    "import plotly.tools as tls\n",
    "tls.set_credentials_file(username='softdesinfinity2', api_key='rVvqvP7LcJ9vC1WAixOv')"
   ]
  },
  {
   "cell_type": "code",
   "execution_count": 97,
   "metadata": {},
   "outputs": [
    {
     "data": {
      "image/png": "[encoded data removed]",
      "text/plain": [
       "<IPython.core.display.Image object>"
      ]
     },
     "execution_count": 97,
     "metadata": {},
     "output_type": "execute_result"
    }
   ],
   "source": [
    "#Format a plot to show how much of the total variance each principal component explains.\n",
    "\n",
    "tot = sum(eig_vals)\n",
    "var_exp = [(i / tot)*100 for i in sorted(eig_vals, reverse=True)]\n",
    "cum_var_exp = np.cumsum(var_exp)\n",
    "\n",
    "trace1 = Bar(\n",
    "        x=['PC %s' %i for i in range(1,18)],\n",
    "        y=var_exp,\n",
    "        showlegend=False)\n",
    "\n",
    "trace2 = Scatter(\n",
    "        x=['PC %s' %i for i in range(1,18)], \n",
    "        y=cum_var_exp,\n",
    "        showlegend=False)\n",
    "\n",
    "data = Data([trace1, trace2])\n",
    "\n",
    "layout=Layout(\n",
    "        yaxis=YAxis(title='Explained Variance(%)'),\n",
    "        title='Explained Variance by Principal Components',\n",
    "        margin=dict(t=50, b=20, r=0, l=60, autoexpand=False),\n",
    "        font=dict(size=16)\n",
    "        )\n",
    "\n",
    "fig = Figure(data=data, layout=layout)\n",
    "\n",
    "py.image.save_as(fig, filename='Ex_var.png')\n",
    "\n",
    "from IPython.display import Image\n",
    "Image('Ex_var.png')"
   ]
  },
  {
   "cell_type": "code",
   "execution_count": 102,
   "metadata": {},
   "outputs": [
    {
     "name": "stdout",
     "output_type": "stream",
     "text": [
      "Matrix W:\n",
      " [[ 0.59  0.09]\n",
      " [ 0.29  0.88]\n",
      " [ 0.52 -0.44]\n",
      " [ 0.55 -0.13]]\n"
     ]
    }
   ],
   "source": [
    "#Using PCA\n",
    "#Creates a matrix containing the two dominant eigenvectors as column vectors.\n",
    "matrix_w = np.hstack((eig_pairs[0][1].reshape(4,1), \n",
    "                      eig_pairs[1][1].reshape(4,1)))\n",
    "\n",
    "print('Matrix W:\\n', matrix_w.round(2))"
   ]
  },
  {
   "cell_type": "code",
   "execution_count": 103,
   "metadata": {},
   "outputs": [
    {
     "name": "stdout",
     "output_type": "stream",
     "text": [
      "Matrix W:\n",
      " [[-0.58595496  0.0875778 ]\n",
      " [-0.28674255  0.88206604]\n",
      " [-0.52259242 -0.44376272]\n",
      " [-0.54893776 -0.13177356]]\n"
     ]
    }
   ],
   "source": [
    "#Using SVD\n",
    "#Creates a matrix containing the two dominant eigenvectors as column vectors.\n",
    "matrix_w2 = np.hstack((eig_pairs2[0][1].reshape(4,1), \n",
    "                      eig_pairs2[1][1].reshape(4,1)))\n",
    "\n",
    "print('Matrix W:\\n', matrix_w2)"
   ]
  },
  {
   "cell_type": "code",
   "execution_count": 106,
   "metadata": {},
   "outputs": [
    {
     "name": "stdout",
     "output_type": "stream",
     "text": [
      "[[ 1.22907548 -1.69410919]\n",
      " [ 0.20718982  0.31630406]\n",
      " [-1.52900573 -0.37590027]\n",
      " [-0.63819146  1.18592995]\n",
      " [-0.77951918 -0.61885692]\n",
      " [-1.10251356 -0.5413215 ]\n",
      " [ 2.88847521  0.5042988 ]\n",
      " [-0.27551058  1.22365507]]\n"
     ]
    }
   ],
   "source": [
    "#Using PCA\n",
    "#Dimensionally reduce the data matrix\n",
    "Y = X_std2.T.dot(matrix_w)\n",
    "print(Y)"
   ]
  },
  {
   "cell_type": "code",
   "execution_count": 107,
   "metadata": {},
   "outputs": [
    {
     "name": "stdout",
     "output_type": "stream",
     "text": [
      "[[-1.22907548 -1.69410919]\n",
      " [-0.20718982  0.31630406]\n",
      " [ 1.52900573 -0.37590027]\n",
      " [ 0.63819146  1.18592995]\n",
      " [ 0.77951918 -0.61885692]\n",
      " [ 1.10251356 -0.5413215 ]\n",
      " [-2.88847521  0.5042988 ]\n",
      " [ 0.27551058  1.22365507]]\n"
     ]
    }
   ],
   "source": [
    "#Using SVD\n",
    "#Dimensionally reduce the data matrix\n",
    "Y2 = X_std2.T.dot(matrix_w2)\n",
    "print(Y2)"
   ]
  },
  {
   "cell_type": "code",
   "execution_count": 108,
   "metadata": {},
   "outputs": [
    {
     "name": "stdout",
     "output_type": "stream",
     "text": [
      "2.4.1\n"
     ]
    }
   ],
   "source": [
    "from plotly import __version__\n",
    "from plotly.offline import download_plotlyjs, init_notebook_mode, plot, iplot\n",
    "\n",
    "print(__version__) # requires version >= 1.9.0"
   ]
  },
  {
   "cell_type": "code",
   "execution_count": 109,
   "metadata": {},
   "outputs": [
    {
     "data": {
      "text/html": [
       "<script>requirejs.config({paths: { 'plotly': ['https://cdn.plot.ly/plotly-latest.min']},});if(!window.Plotly) {{require(['plotly'],function(plotly) {window.Plotly=plotly;});}}</script>"
      ],
      "text/vnd.plotly.v1+html": [
       "<script>requirejs.config({paths: { 'plotly': ['https://cdn.plot.ly/plotly-latest.min']},});if(!window.Plotly) {{require(['plotly'],function(plotly) {window.Plotly=plotly;});}}</script>"
      ]
     },
     "metadata": {},
     "output_type": "display_data"
    }
   ],
   "source": [
    "init_notebook_mode(connected=True)"
   ]
  },
  {
   "cell_type": "code",
   "execution_count": 110,
   "metadata": {},
   "outputs": [
    {
     "data": {
      "text/html": [
       "<iframe id=\"igraph\" scrolling=\"no\" style=\"border:none;\" seamless=\"seamless\" src=\"https://plot.ly/~softdesinfinity2/16.embed\" height=\"525px\" width=\"100%\"></iframe>"
      ],
      "text/plain": [
       "<plotly.tools.PlotlyDisplay object>"
      ]
     },
     "execution_count": 110,
     "metadata": {},
     "output_type": "execute_result"
    }
   ],
   "source": [
    "#Plot the two dominant principal components from PCA\n",
    "import plotly.graph_objs as go\n",
    "\n",
    "traces = []\n",
    "\n",
    "trace1 = go.Scatter(\n",
    "    x=Y[:,0],\n",
    "    y=Y[:,1],\n",
    "    mode='markers+text',\n",
    "    text=['Dan', 'Cassandra', 'Will', 'Josh', 'Junwon', 'Anna', 'Jessie', 'Ashley'],\n",
    "    textposition='bottom',\n",
    "    marker=Marker(\n",
    "            size=12,\n",
    "            line=Line(\n",
    "                color='rgba(217, 217, 217, 0.14)',\n",
    "                width=0.5),\n",
    "            opacity=0.8))\n",
    "\n",
    "traces.append(trace1)\n",
    "\n",
    "\n",
    "data = Data(traces)\n",
    "\n",
    "layout = Layout(showlegend=False,\n",
    "                xaxis=dict(title='PC1 of C',),\n",
    "                yaxis=dict(title='PC2 of C',),\n",
    "                title='2D PCA of Class Time Data',\n",
    "                margin=dict(t=50, b=50, r=0, l=60, autoexpand=False),\n",
    "                font=dict(size=16)\n",
    "                )\n",
    "\n",
    "fig = go.Figure(data=data, layout=layout)\n",
    "py.iplot(fig, filename='2d-PCA')"
   ]
  },
  {
   "cell_type": "code",
   "execution_count": 114,
   "metadata": {},
   "outputs": [
    {
     "data": {
      "text/html": [
       "<iframe id=\"igraph\" scrolling=\"no\" style=\"border:none;\" seamless=\"seamless\" src=\"https://plot.ly/~softdesinfinity2/69.embed\" height=\"525px\" width=\"100%\"></iframe>"
      ],
      "text/plain": [
       "<plotly.tools.PlotlyDisplay object>"
      ]
     },
     "execution_count": 114,
     "metadata": {},
     "output_type": "execute_result"
    }
   ],
   "source": [
    "#Plot the two dominant singular values from SVD\n",
    "import plotly.graph_objs as go\n",
    "\n",
    "traces = []\n",
    "\n",
    "trace1 = go.Scatter(\n",
    "    x=Y2[:,0],\n",
    "    y=Y2[:,1],\n",
    "    mode='markers+text',\n",
    "    text=['Dan', 'Cassandra', 'Will', 'Josh', 'Junwon', 'Anna', 'Jessie', 'Ashley'],\n",
    "    textposition='bottom',\n",
    "    marker=Marker(\n",
    "            size=12,\n",
    "            line=Line(\n",
    "                color='rgba(217, 217, 217, 0.14)',\n",
    "                width=0.5),\n",
    "            opacity=0.8))\n",
    "\n",
    "traces.append(trace1)\n",
    "\n",
    "\n",
    "data = Data(traces)\n",
    "\n",
    "layout = Layout(showlegend=False,\n",
    "                xaxis=dict(title='PC1 of U',),\n",
    "                yaxis=dict(title='PC2 of U',),\n",
    "                title='2D SVD of Class Time Data',\n",
    "                margin=dict(t=50, b=50, r=0, l=60, autoexpand=False),\n",
    "                font=dict(size=16)\n",
    "                )\n",
    "\n",
    "fig = go.Figure(data=data, layout=layout)\n",
    "py.iplot(fig, filename='2d-SVD')"
   ]
  },
  {
   "cell_type": "code",
   "execution_count": null,
   "metadata": {
    "collapsed": true
   },
   "outputs": [],
   "source": []
  }
 ],
 "metadata": {
  "kernelspec": {
   "display_name": "Python 3",
   "language": "python",
   "name": "python3"
  },
  "language_info": {
   "codemirror_mode": {
    "name": "ipython",
    "version": 3
   },
   "file_extension": ".py",
   "mimetype": "text/x-python",
   "name": "python",
   "nbconvert_exporter": "python",
   "pygments_lexer": "ipython3",
   "version": "3.6.3"
  }
 },
 "nbformat": 4,
 "nbformat_minor": 2
}
