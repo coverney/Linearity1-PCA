{
 "cells": [
  {
   "cell_type": "code",
   "execution_count": 1,
   "metadata": {},
   "outputs": [],
   "source": [
    "# import needed libraries\n",
    "import pandas as pd\n",
    "import numpy as np\n",
    "from sklearn.preprocessing import StandardScaler\n",
    "import plotly.plotly as py\n",
    "from plotly.graph_objs import *\n",
    "import plotly.tools as tls\n",
    "import plotly.graph_objs as go\n",
    "tls.set_credentials_file(username='enter info', api_key='enter info')"
   ]
  },
  {
   "cell_type": "code",
   "execution_count": 2,
   "metadata": {},
   "outputs": [
    {
     "name": "stdout",
     "output_type": "stream",
     "text": [
      "2.5.1\n"
     ]
    },
    {
     "data": {
      "text/html": [
       "<script>requirejs.config({paths: { 'plotly': ['https://cdn.plot.ly/plotly-latest.min']},});if(!window.Plotly) {{require(['plotly'],function(plotly) {window.Plotly=plotly;});}}</script>"
      ],
      "text/vnd.plotly.v1+html": [
       "<script>requirejs.config({paths: { 'plotly': ['https://cdn.plot.ly/plotly-latest.min']},});if(!window.Plotly) {{require(['plotly'],function(plotly) {window.Plotly=plotly;});}}</script>"
      ]
     },
     "metadata": {},
     "output_type": "display_data"
    }
   ],
   "source": [
    "from plotly import __version__\n",
    "from plotly.offline import download_plotlyjs, init_notebook_mode, plot, iplot\n",
    "\n",
    "print(__version__)\n",
    "init_notebook_mode(connected=True)"
   ]
  },
  {
   "cell_type": "code",
   "execution_count": 3,
   "metadata": {},
   "outputs": [
    {
     "data": {
      "text/html": [
       "<div>\n",
       "<style scoped>\n",
       "    .dataframe tbody tr th:only-of-type {\n",
       "        vertical-align: middle;\n",
       "    }\n",
       "\n",
       "    .dataframe tbody tr th {\n",
       "        vertical-align: top;\n",
       "    }\n",
       "\n",
       "    .dataframe thead th {\n",
       "        text-align: right;\n",
       "    }\n",
       "</style>\n",
       "<table border=\"1\" class=\"dataframe\">\n",
       "  <thead>\n",
       "    <tr style=\"text-align: right;\">\n",
       "      <th></th>\n",
       "      <th>0</th>\n",
       "      <th>1</th>\n",
       "      <th>2</th>\n",
       "      <th>3</th>\n",
       "      <th>4</th>\n",
       "      <th>5</th>\n",
       "      <th>6</th>\n",
       "      <th>7</th>\n",
       "    </tr>\n",
       "  </thead>\n",
       "  <tbody>\n",
       "    <tr>\n",
       "      <th>0</th>\n",
       "      <td>8.0</td>\n",
       "      <td>9.0</td>\n",
       "      <td>6.0</td>\n",
       "      <td>8.0</td>\n",
       "      <td>6.0</td>\n",
       "      <td>6.0</td>\n",
       "      <td>15.0</td>\n",
       "      <td>4.0</td>\n",
       "    </tr>\n",
       "    <tr>\n",
       "      <th>1</th>\n",
       "      <td>2.5</td>\n",
       "      <td>6.0</td>\n",
       "      <td>2.0</td>\n",
       "      <td>8.0</td>\n",
       "      <td>2.0</td>\n",
       "      <td>2.0</td>\n",
       "      <td>8.0</td>\n",
       "      <td>9.0</td>\n",
       "    </tr>\n",
       "    <tr>\n",
       "      <th>2</th>\n",
       "      <td>20.0</td>\n",
       "      <td>10.0</td>\n",
       "      <td>5.0</td>\n",
       "      <td>8.0</td>\n",
       "      <td>6.0</td>\n",
       "      <td>6.0</td>\n",
       "      <td>13.0</td>\n",
       "      <td>6.5</td>\n",
       "    </tr>\n",
       "    <tr>\n",
       "      <th>3</th>\n",
       "      <td>6.5</td>\n",
       "      <td>5.0</td>\n",
       "      <td>4.0</td>\n",
       "      <td>3.0</td>\n",
       "      <td>6.0</td>\n",
       "      <td>5.0</td>\n",
       "      <td>8.5</td>\n",
       "      <td>6.5</td>\n",
       "    </tr>\n",
       "  </tbody>\n",
       "</table>\n",
       "</div>"
      ],
      "text/plain": [
       "      0     1    2    3    4    5     6    7\n",
       "0   8.0   9.0  6.0  8.0  6.0  6.0  15.0  4.0\n",
       "1   2.5   6.0  2.0  8.0  2.0  2.0   8.0  9.0\n",
       "2  20.0  10.0  5.0  8.0  6.0  6.0  13.0  6.5\n",
       "3   6.5   5.0  4.0  3.0  6.0  5.0   8.5  6.5"
      ]
     },
     "execution_count": 3,
     "metadata": {},
     "output_type": "execute_result"
    }
   ],
   "source": [
    "#Create a DataFrame containing the data you wish to analyze.\n",
    "#The rows stand for 'Linearity', 'Products & Markets', 'Software Design', and 'Mechanics'\n",
    "df = pd.read_csv(\n",
    "    filepath_or_buffer='example_data.csv', \n",
    "    header=None, \n",
    "    sep=',')\n",
    "\n",
    "df = df.transpose()\n",
    "df"
   ]
  },
  {
   "cell_type": "code",
   "execution_count": 4,
   "metadata": {},
   "outputs": [
    {
     "name": "stdout",
     "output_type": "stream",
     "text": [
      "[[  8.    9.    6.    8.    6.    6.   15.    4. ]\n",
      " [  2.5   6.    2.    8.    2.    2.    8.    9. ]\n",
      " [ 20.   10.    5.    8.    6.    6.   13.    6.5]\n",
      " [  6.5   5.    4.    3.    6.    5.    8.5   6.5]]\n"
     ]
    }
   ],
   "source": [
    "#Show another way to get a Numpy representation of a Dataframe\n",
    "D = df.iloc[:,0:8].values\n",
    "print(D)"
   ]
  },
  {
   "cell_type": "code",
   "execution_count": 5,
   "metadata": {},
   "outputs": [],
   "source": [
    "#Center the transpose of the data matrix.\n",
    "#In other words, center the rows of the data matrix\n",
    "B = StandardScaler(copy=True, with_mean=True, with_std=False).fit_transform(D.T)\n",
    "#Get the centered data matrix\n",
    "B = B.T"
   ]
  },
  {
   "cell_type": "code",
   "execution_count": 6,
   "metadata": {},
   "outputs": [
    {
     "name": "stdout",
     "output_type": "stream",
     "text": [
      "[[  0.25     1.25    -1.75     0.25    -1.75    -1.75     7.25    -3.75  ]\n",
      " [ -2.4375   1.0625  -2.9375   3.0625  -2.9375  -2.9375   3.0625   4.0625]\n",
      " [ 10.6875   0.6875  -4.3125  -1.3125  -3.3125  -3.3125   3.6875  -2.8125]\n",
      " [  0.9375  -0.5625  -1.5625  -2.5625   0.4375  -0.5625   2.9375   0.9375]]\n"
     ]
    }
   ],
   "source": [
    "print(B)"
   ]
  },
  {
   "cell_type": "code",
   "execution_count": 7,
   "metadata": {},
   "outputs": [
    {
     "data": {
      "text/plain": [
       "matrix([[ 0.07513429,  0.37567144, -0.52594002,  0.07513429, -0.52594002,\n",
       "         -0.52594002,  2.17889436, -1.12701433],\n",
       "        [-0.78080353,  0.34035025, -0.94096835,  0.98100956, -0.94096835,\n",
       "         -0.94096835,  0.98100956,  1.30133921],\n",
       "        [ 2.11662566,  0.13615721, -0.85407702, -0.25993648, -0.65603018,\n",
       "         -0.65603018,  0.73029774, -0.55700675],\n",
       "        [ 0.55162399, -0.33097439, -0.91937332, -1.50777224,  0.25742453,\n",
       "         -0.33097439,  1.72842184,  0.55162399]])"
      ]
     },
     "execution_count": 7,
     "metadata": {},
     "output_type": "execute_result"
    }
   ],
   "source": [
    "#Divide each entry in the data matrix by the standard deviation of the samples in that row.\n",
    "x = np.matrix(df.iloc[:,0:8].values.reshape((4, 8)))\n",
    "B = B/x.std(1, ddof=1)\n",
    "B"
   ]
  },
  {
   "cell_type": "code",
   "execution_count": 8,
   "metadata": {},
   "outputs": [
    {
     "data": {
      "text/plain": [
       "array([[-0.59,  0.09, -0.36,  0.72],\n",
       "       [-0.29,  0.88, -0.06, -0.37],\n",
       "       [-0.52, -0.44, -0.43, -0.59],\n",
       "       [-0.55, -0.13,  0.83, -0.02]])"
      ]
     },
     "execution_count": 8,
     "metadata": {},
     "output_type": "execute_result"
    }
   ],
   "source": [
    "#Perform singular value decomposition on the centered matrix\n",
    "U,S,V = np.linalg.svd(B)\n",
    "U.round(2)"
   ]
  },
  {
   "cell_type": "code",
   "execution_count": 9,
   "metadata": {},
   "outputs": [
    {
     "name": "stdout",
     "output_type": "stream",
     "text": [
      "Singular values in descending order:\n",
      "3.81\n",
      "[[-0.59]\n",
      " [-0.29]\n",
      " [-0.52]\n",
      " [-0.55]]\n",
      "2.64\n",
      "[[ 0.09]\n",
      " [ 0.88]\n",
      " [-0.44]\n",
      " [-0.13]]\n",
      "1.91\n",
      "[[-0.36]\n",
      " [-0.06]\n",
      " [-0.43]\n",
      " [ 0.83]]\n",
      "1.69\n",
      "[[ 0.72]\n",
      " [-0.37]\n",
      " [-0.59]\n",
      " [-0.02]]\n"
     ]
    }
   ],
   "source": [
    "#Singular Value Decomposition\n",
    "# Make a list of (singular value, eigenvector) tuples\n",
    "eig_pairs = [(np.abs(S[i]), U[:,i]) for i in range(len(S))]\n",
    "\n",
    "# Sort the (eigenvalue, eigenvector) tuples from high to low\n",
    "eig_pairs.sort()\n",
    "eig_pairs.reverse()\n",
    "\n",
    "# Visually confirm that the list is correctly sorted by decreasing eigenvalues\n",
    "print('Singular values in descending order:')\n",
    "for i in eig_pairs:\n",
    "    print(i[0].round(2))\n",
    "    print(i[1].round(2))"
   ]
  },
  {
   "cell_type": "code",
   "execution_count": 10,
   "metadata": {},
   "outputs": [
    {
     "name": "stdout",
     "output_type": "stream",
     "text": [
      "Matrix U2:\n",
      " [[-0.59  0.09]\n",
      " [-0.29  0.88]\n",
      " [-0.52 -0.44]\n",
      " [-0.55 -0.13]]\n"
     ]
    }
   ],
   "source": [
    "#Using SVD\n",
    "#Creates a matrix containing the two dominant eigenvectors as column vectors.\n",
    "U2 = np.hstack((eig_pairs[0][1].reshape(4,1), \n",
    "                      eig_pairs[1][1].reshape(4,1)))\n",
    "\n",
    "print('Matrix U2:\\n', U2.round(2))"
   ]
  },
  {
   "cell_type": "code",
   "execution_count": 11,
   "metadata": {},
   "outputs": [
    {
     "name": "stdout",
     "output_type": "stream",
     "text": [
      "[[-1.22907548 -1.69410919]\n",
      " [-0.20718982  0.31630406]\n",
      " [ 1.52900573 -0.37590027]\n",
      " [ 0.63819146  1.18592995]\n",
      " [ 0.77951918 -0.61885692]\n",
      " [ 1.10251356 -0.5413215 ]\n",
      " [-2.88847521  0.5042988 ]\n",
      " [ 0.27551058  1.22365507]]\n"
     ]
    }
   ],
   "source": [
    "#Using SVD\n",
    "#Dimensionally reduce the data matrix\n",
    "B2 = B.T.dot(U2)\n",
    "print(B2)"
   ]
  },
  {
   "cell_type": "code",
   "execution_count": 12,
   "metadata": {},
   "outputs": [
    {
     "data": {
      "text/html": [
       "<iframe id=\"igraph\" scrolling=\"no\" style=\"border:none;\" seamless=\"seamless\" src=\"https://plot.ly/~softdesinfinity2/79.embed\" height=\"525px\" width=\"100%\"></iframe>"
      ],
      "text/plain": [
       "<plotly.tools.PlotlyDisplay object>"
      ]
     },
     "execution_count": 12,
     "metadata": {},
     "output_type": "execute_result"
    }
   ],
   "source": [
    "#Plot the two dominant singular values from SVD\n",
    "traces = []\n",
    "\n",
    "trace1 = go.Scatter(\n",
    "    x=B2[:,0],\n",
    "    y=B2[:,1],\n",
    "    mode='markers+text',\n",
    "    text=['Dan', 'Cassandra', 'Will', 'Josh', 'Junwon', 'Anna', 'Jessie', 'Ashley'],\n",
    "    textposition='bottom',\n",
    "    marker=Marker(\n",
    "            size=12,\n",
    "            line=Line(\n",
    "                color='rgba(217, 217, 217, 0.14)',\n",
    "                width=0.5),\n",
    "            opacity=0.8))\n",
    "\n",
    "traces.append(trace1)\n",
    "\n",
    "\n",
    "data = Data(traces)\n",
    "\n",
    "layout = Layout(showlegend=False,\n",
    "                xaxis=dict(title='PC1 of U',),\n",
    "                yaxis=dict(title='PC2 of U',),\n",
    "                title='2D SVD of Class Time Data',\n",
    "                margin=dict(t=50, b=50, r=0, l=60, autoexpand=False),\n",
    "                font=dict(size=16)\n",
    "                )\n",
    "\n",
    "fig = go.Figure(data=data, layout=layout)\n",
    "py.iplot(fig, filename='2d-SVD')"
   ]
  },
  {
   "cell_type": "code",
   "execution_count": null,
   "metadata": {
    "collapsed": true
   },
   "outputs": [],
   "source": []
  }
 ],
 "metadata": {
  "kernelspec": {
   "display_name": "Python 3",
   "language": "python",
   "name": "python3"
  },
  "language_info": {
   "codemirror_mode": {
    "name": "ipython",
    "version": 3
   },
   "file_extension": ".py",
   "mimetype": "text/x-python",
   "name": "python",
   "nbconvert_exporter": "python",
   "pygments_lexer": "ipython3",
   "version": "3.5.2"
  }
 },
 "nbformat": 4,
 "nbformat_minor": 2
}
